{
 "cells": [
  {
   "cell_type": "code",
   "execution_count": null,
   "id": "d0c1849a",
   "metadata": {},
   "outputs": [],
   "source": [
    "import pandas as pd\n",
    "import json\n"
   ]
  },
  {
   "cell_type": "code",
   "execution_count": null,
   "id": "b73a97f6",
   "metadata": {},
   "outputs": [],
   "source": [
    "#had to edit Puerto Rico out of file\n",
    "with open('../to_plot/outlines.json') as f:\n",
    "    data = json.load(f)\n",
    "print(data)"
   ]
  },
  {
   "cell_type": "code",
   "execution_count": null,
   "id": "8efdad18",
   "metadata": {},
   "outputs": [],
   "source": [
    "#how many do i have?\n",
    "range(len(data['features']))"
   ]
  },
  {
   "cell_type": "code",
   "execution_count": null,
   "id": "3c9aa160",
   "metadata": {
    "scrolled": true
   },
   "outputs": [],
   "source": [
    "with open('../json/all_parks.json') as g:\n",
    "    parks = json.load(g)\n",
    "print(parks)"
   ]
  },
  {
   "cell_type": "code",
   "execution_count": null,
   "id": "603f3833",
   "metadata": {},
   "outputs": [],
   "source": [
    "#how many do i have?\n",
    "range(len(parks))"
   ]
  },
  {
   "cell_type": "code",
   "execution_count": null,
   "id": "00d87399",
   "metadata": {},
   "outputs": [],
   "source": [
    "#before the merge\n",
    "data['features'][50]\n"
   ]
  },
  {
   "cell_type": "code",
   "execution_count": null,
   "id": "72e2a2b2",
   "metadata": {},
   "outputs": [],
   "source": [
    "#how long did it take to get these three lines to work?\n",
    "#adding all parks to properties in the outlines json\n",
    "for x in range(len(data['features'])):\n",
    "    if data['features'][x]['properties']['name']== parks[x][\"State\"]:\n",
    "       data['features'][x]['properties'].update(parks[x])"
   ]
  },
  {
   "cell_type": "code",
   "execution_count": null,
   "id": "5495a099",
   "metadata": {},
   "outputs": [],
   "source": [
    "\n",
    "#Check it\n",
    "data['features'][50]\n",
    "#formatting is STILL bad from the scrape, all ints are strings."
   ]
  },
  {
   "cell_type": "code",
   "execution_count": null,
   "id": "87462e32",
   "metadata": {},
   "outputs": [],
   "source": [
    "# data.dtype\n",
    "#shoudl give an error since its not a df"
   ]
  },
  {
   "cell_type": "code",
   "execution_count": null,
   "id": "d26f6499",
   "metadata": {},
   "outputs": [],
   "source": [
    "#parks with outlines out to file to add to leaflet\n",
    "with open('../to_plot/parks_plots.json', 'w') as fp:\n",
    "    json.dump(data, fp)"
   ]
  },
  {
   "cell_type": "code",
   "execution_count": null,
   "id": "ad7c8d01",
   "metadata": {},
   "outputs": [],
   "source": [
    "with open('../json/colleges.json') as h:\n",
    "    college = json.load(h)\n",
    "print(college)"
   ]
  },
  {
   "cell_type": "code",
   "execution_count": null,
   "id": "a4d750df",
   "metadata": {},
   "outputs": [],
   "source": [
    "college[0]"
   ]
  },
  {
   "cell_type": "code",
   "execution_count": null,
   "id": "0b077fb8",
   "metadata": {},
   "outputs": [],
   "source": [
    "for x in range(len(data['features'])):\n",
    "    if data['features'][x]['properties']['name']== college[x][\"State\"]:\n",
    "       data['features'][x]['properties'].update(college[x])\n",
    "for x in range(len(data['features'])):\n",
    "    for y in range(len(college)):\n",
    "        if data['features'][x]['properties']['name']== college[y][\"State\"]:\n",
    "            data['features'][x]['properties'].update(college[y])"
   ]
  },
  {
   "cell_type": "code",
   "execution_count": null,
   "id": "133baf27",
   "metadata": {},
   "outputs": [],
   "source": [
    "#Check it\n",
    "data['features'][7]\n"
   ]
  },
  {
   "cell_type": "code",
   "execution_count": null,
   "id": "23b93bac",
   "metadata": {},
   "outputs": [],
   "source": [
    "#parks & colleges out\n",
    "with open('../to_plot/parks_colleges_plots.json', 'w') as fp:\n",
    "    json.dump(data, fp)"
   ]
  },
  {
   "cell_type": "code",
   "execution_count": null,
   "id": "e33b5113",
   "metadata": {},
   "outputs": [],
   "source": [
    "with open('../json/happiness.json') as k:\n",
    "    happy = json.load(k)\n",
    "print(happy)"
   ]
  },
  {
   "cell_type": "code",
   "execution_count": null,
   "id": "754ac4a0",
   "metadata": {},
   "outputs": [],
   "source": [
    "happy[1][\"State\"]"
   ]
  },
  {
   "cell_type": "code",
   "execution_count": null,
   "id": "c03ea6ef",
   "metadata": {},
   "outputs": [],
   "source": [
    "for x in range(len(data['features'])):\n",
    "    if data['features'][x]['properties']['name']== happy[x][\"State\"]:\n",
    "       data['features'][x]['properties'].update(happy[x])"
   ]
  },
  {
   "cell_type": "code",
   "execution_count": null,
   "id": "2c4d9cce",
   "metadata": {},
   "outputs": [],
   "source": [
    "#Check it\n",
    "data['features'][44]"
   ]
  },
  {
   "cell_type": "code",
   "execution_count": null,
   "id": "8453a046",
   "metadata": {},
   "outputs": [],
   "source": [
    "with open('../json/pet_data.json') as p:\n",
    "    pets = json.load(p)\n",
    "print(pets)"
   ]
  },
  {
   "cell_type": "code",
   "execution_count": null,
   "id": "47c77047",
   "metadata": {},
   "outputs": [],
   "source": [
    "pets[1][\"name\"]"
   ]
  },
  {
   "cell_type": "code",
   "execution_count": null,
   "id": "159ea390",
   "metadata": {},
   "outputs": [],
   "source": [
    "for x in range(len(data['features'])):\n",
    "    for y in range(len(pets)):\n",
    "        if data['features'][x]['properties']['name']== pets[y][\"name\"]:\n",
    "            data['features'][x]['properties'].update(pets[y])"
   ]
  },
  {
   "cell_type": "code",
   "execution_count": null,
   "id": "fd2fe7c1",
   "metadata": {},
   "outputs": [],
   "source": [
    "for x in range(len(data['features'])):\n",
    "        try:\n",
    "                data['features'][x][\"properties\"][\"pet ownership\"] = float(data['features'][x][\"properties\"][\"pet ownership\"])\n",
    "        except:\n",
    "                print(data['features'][x][\"properties\"][\"State\"])\n",
    "        try:\n",
    "                data['features'][x][\"properties\"][\"dog ownership\"] = float(data['features'][x][\"properties\"][\"dog ownership\"])\n",
    "        except:\n",
    "                print(data['features'][x][\"properties\"][\"State\"])\n",
    "        try:\n",
    "                data['features'][x][\"properties\"][\"cat ownership\"] = float(data['features'][x][\"properties\"][\"cat ownership\"])\n",
    "        except:\n",
    "                print(data['features'][x][\"properties\"][\"State\"])"
   ]
  },
  {
   "cell_type": "code",
   "execution_count": null,
   "id": "e49fa776",
   "metadata": {},
   "outputs": [],
   "source": [
    "data['features'][44]"
   ]
  },
  {
   "cell_type": "code",
   "execution_count": null,
   "id": "fd26fa31",
   "metadata": {},
   "outputs": [],
   "source": [
    "with open('../json/income.json') as i:\n",
    "    income = json.load(i)\n",
    "print(income)"
   ]
  },
  {
   "cell_type": "code",
   "execution_count": null,
   "id": "470c9ff2",
   "metadata": {},
   "outputs": [],
   "source": [
    "income[1][\"State\"]"
   ]
  },
  {
   "cell_type": "code",
   "execution_count": null,
   "id": "3dae3783",
   "metadata": {},
   "outputs": [],
   "source": [
    "for x in range(len(data['features'])):\n",
    "    for y in range(len(income)):\n",
    "        if data['features'][x]['properties']['name']== income[y][\"State\"]:\n",
    "            data['features'][x]['properties'].update(income[y])"
   ]
  },
  {
   "cell_type": "code",
   "execution_count": null,
   "id": "2f3ffd03",
   "metadata": {},
   "outputs": [],
   "source": [
    "data['features'][5]"
   ]
  },
  {
   "cell_type": "code",
   "execution_count": null,
   "id": "81c22c29",
   "metadata": {},
   "outputs": [],
   "source": [
    "with open('../json/crime.json') as c:\n",
    "    crime = json.load(c)\n",
    "print(crime)"
   ]
  },
  {
   "cell_type": "code",
   "execution_count": null,
   "id": "d374b571",
   "metadata": {},
   "outputs": [],
   "source": [
    "for x in range(len(data['features'])):\n",
    "    for y in range(len(crime)):\n",
    "        if data['features'][x]['properties']['name']== crime[y][\"State\"]:\n",
    "            data['features'][x]['properties'].update(crime[y])"
   ]
  },
  {
   "cell_type": "code",
   "execution_count": null,
   "id": "df390d4f",
   "metadata": {},
   "outputs": [],
   "source": [
    "data['features'][15]"
   ]
  },
  {
   "cell_type": "code",
   "execution_count": null,
   "id": "bcdb9fc2",
   "metadata": {},
   "outputs": [],
   "source": [
    "with open('../json/centerstates.json') as cs:\n",
    "    centers = json.load(cs)\n",
    "print(centers)"
   ]
  },
  {
   "cell_type": "code",
   "execution_count": null,
   "id": "2850a2a1",
   "metadata": {},
   "outputs": [],
   "source": [
    "for x in range(len(data['features'])):\n",
    "    for y in range(len(centers)):\n",
    "        if data['features'][x]['properties']['name']== centers[y][\"state\"]:\n",
    "            data['features'][x]['properties'].update(centers[y])"
   ]
  },
  {
   "cell_type": "code",
   "execution_count": null,
   "id": "5a66fcc4",
   "metadata": {},
   "outputs": [],
   "source": [
    "#parks & colleges & happiness out\n",
    "with open('../to_plot/parks_colleges_happiness_plots.json', 'w') as ff:\n",
    "    json.dump(data, ff)"
   ]
  },
  {
   "cell_type": "code",
   "execution_count": null,
   "id": "68181e99",
   "metadata": {},
   "outputs": [],
   "source": []
  },
  {
   "cell_type": "code",
   "execution_count": null,
   "id": "dcddc106",
   "metadata": {},
   "outputs": [],
   "source": []
  },
  {
   "cell_type": "code",
   "execution_count": null,
   "id": "f0ea8555",
   "metadata": {},
   "outputs": [],
   "source": []
  }
 ],
 "metadata": {
  "kernelspec": {
   "display_name": "Python 3 (ipykernel)",
   "language": "python",
   "name": "python3"
  },
  "language_info": {
   "codemirror_mode": {
    "name": "ipython",
    "version": 3
   },
   "file_extension": ".py",
   "mimetype": "text/x-python",
   "name": "python",
   "nbconvert_exporter": "python",
   "pygments_lexer": "ipython3",
   "version": "3.9.7"
  }
 },
 "nbformat": 4,
 "nbformat_minor": 5
}
